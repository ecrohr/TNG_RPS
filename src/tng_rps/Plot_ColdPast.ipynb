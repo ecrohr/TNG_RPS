{
 "cells": [
  {
   "cell_type": "markdown",
   "metadata": {},
   "source": [
    "# Plot Cold Past \n",
    "## Written by Eric Rohr"
   ]
  },
  {
   "cell_type": "code",
   "execution_count": 1,
   "metadata": {},
   "outputs": [],
   "source": [
    "### import modules\n",
    "import illustris_python as il\n",
    "import matplotlib.pyplot as plt\n",
    "import numpy as np\n",
    "import matplotlib as mpl\n",
    "import matplotlib.cm as cm\n",
    "import matplotlib.patheffects as pe\n",
    "import matplotlib.transforms as transforms\n",
    "from matplotlib.gridspec import GridSpec\n",
    "import matplotlib.gridspec as gridspec\n",
    "from matplotlib.patches import Patch\n",
    "import matplotlib.patches as patches\n",
    "from mpl_toolkits.axes_grid1.inset_locator import inset_axes\n",
    "from mpl_toolkits.axes_grid1 import make_axes_locatable\n",
    "from scipy.ndimage import gaussian_filter\n",
    "from scipy.interpolate import interp1d\n",
    "import scipy.stats\n",
    "from scipy.stats import norm\n",
    "from sklearn.neighbors import KernelDensity\n",
    "from scipy.stats import ks_2samp, anderson_ksamp\n",
    "import os\n",
    "import time\n",
    "import h5py\n",
    "import rohr_utils as ru \n",
    "import random\n",
    "import six\n",
    "%matplotlib widget\n",
    "\n",
    "plt.style.use('fullpage.mplstyle')\n",
    "\n",
    "zs, times = ru.return_zs_costimes()\n",
    "times /= 1.0e9 # [Gyr]\n",
    "scales = 1. / (1.+ zs)\n"
   ]
  },
  {
   "cell_type": "code",
   "execution_count": null,
   "metadata": {},
   "outputs": [],
   "source": [
    "os.chdir('/u/reric/Scripts/')\n",
    "! pwd"
   ]
  },
  {
   "cell_type": "code",
   "execution_count": null,
   "metadata": {},
   "outputs": [],
   "source": [
    "def load_grpdict(infname):\n",
    "    result = {}\n",
    "    with h5py.File('../Output/TNG50-1_subfindGRP/' + infname, 'r') as f:\n",
    "        for group_key in f.keys():\n",
    "            result[group_key] = {}\n",
    "            for dset_key in f[group_key].keys():\n",
    "                result[group_key][dset_key] = f[group_key][dset_key][:]\n",
    "        f.close()\n",
    "    \n",
    "    return result\n",
    "\n",
    "infname = 'central_groups_subfind_TNG50-1_branches.hdf5'\n",
    "groups_grp_dict = load_grpdict(infname)\n",
    "halos_snapnum099_grp_dict = load_grpdict('central_subfind_TNG50-1_branches_snapNum099.hdf5')\n",
    "halos_snapnum067_grp_dict = load_grpdict('central_subfind_TNG50-1_branches_snapNum067.hdf5')\n",
    "halos_snapnum050_grp_dict = load_grpdict('central_subfind_TNG50-1_branches_snapNum050.hdf5')\n",
    "halos_snapnum033_grp_dict = load_grpdict('central_subfind_TNG50-1_branches_snapNum033.hdf5')\n",
    "\n",
    "grp_dicts = [groups_grp_dict,\n",
    "             halos_snapnum099_grp_dict,\n",
    "             halos_snapnum067_grp_dict,\n",
    "             halos_snapnum050_grp_dict,\n",
    "             halos_snapnum033_grp_dict]\n"
   ]
  },
  {
   "cell_type": "code",
   "execution_count": null,
   "metadata": {},
   "outputs": [],
   "source": [
    "def compute_coldgasCGM(grp_dict):\n",
    "    dset_key = 'SubhaloCGMColdGasMass'\n",
    "    for group_key in grp_dict:\n",
    "        group = grp_dict[group_key]\n",
    "        group[dset_key] = np.zeros(group['radii'].shape[0], dtype=group['radii'].dtype) - 1\n",
    "        for time_index in range(group['radii'].shape[0]):\n",
    "            radii = group['radii'][time_index]\n",
    "            r200c = group['HostGroup_R_Crit200'][time_index]\n",
    "            subhalo_mcgas_shells = group['SubhaloColdGasMassShells'][time_index]\n",
    "            mask = ((radii > r200c * 0.1) & (radii < r200c))\n",
    "            subhalo_cgmcgmass = np.sum(subhalo_mcgas_shells[mask])\n",
    "            group[dset_key][time_index] = subhalo_cgmcgmass\n",
    "    return grp_dict\n",
    "\n",
    "for grp_dict in grp_dicts:\n",
    "    compute_coldgasCGM(grp_dict)"
   ]
  },
  {
   "cell_type": "code",
   "execution_count": null,
   "metadata": {},
   "outputs": [],
   "source": [
    "grp_keys = ['SnapNum', 'CosmicTime', 'HostGroup_M_Crit200',\n",
    "            'HostGroup_R_Crit200', 'SubhaloMass',\n",
    "            'Subhalo_Mstar_Rgal', 'Subhalo_Rgal',\n",
    "            'SubhaloColdGasMass', 'SubhaloHotGasMass', 'SubhaloGasMass',\n",
    "            'SubhaloCGMColdGasMass']\n",
    "\n",
    "def create_taudict(grp_dict, [snaps]):\n",
    "    tauresult = {}\n",
    "    # begin loop over subhalos\n",
    "    for group_index, group_key in enumerate(grp_dict):\n",
    "        group = result[group_key]\n",
    "        # if just starting, then initialize the dictionary \n",
    "        if group_index == 0:\n",
    "            tauresult['SubfindID'] = np.zeros(len(result_keys), dtype=int)\n",
    "            tauresult['HostSubhaloGrNr'] = np.zeros(len(result_keys), dtype=int)\n",
    "            for grp_key in grp_keys:\n",
    "                for snap in snaps:\n",
    "                    if 'quench' in snap:\n",
    "                        tauresult_key = grp_key + '_snapNumquench'\n",
    "                        tauresult[tauresult_key] = np.zeros(len(grp_dict),\n",
    "                                                            dtype=group[grp_key].dtype) - 1\n",
    "                    else:\n",
    "                        tauresult_key = grp_key + '_snapNum%03d'%snap\n",
    "                        tauresult[tauresult_key] = np.zeros(len(grp_dict),\n",
    "                                                            dtype=group[grp_key].dtype) - 1\n",
    "                    \n",
    "        tauresult['SubfindID'][group_index] = group['SubfindID'][0]\n",
    "        tauresult['HostSubhaloGrNr'][group_index] = group['HostSubhaloGrNr'][0]\n",
    "        # finish initializing the the result\n",
    "        # assign the values at z=0, which are always the 0th element in the array\n",
    "        for grp_key in grp_keys:\n",
    "            tauresult_key = grp_key + '_z0'\n",
    "            tauresult[tauresult_key][group_index] = group[grp_key][0]\n",
    "    # finish loop over the branches\n",
    "    return tauresult\n",
    "    "
   ]
  },
  {
   "cell_type": "code",
   "execution_count": null,
   "metadata": {},
   "outputs": [],
   "source": [
    "groups_grp_dict_keys = list(groups_grp_dict.keys())"
   ]
  },
  {
   "cell_type": "code",
   "execution_count": null,
   "metadata": {},
   "outputs": [],
   "source": [
    "np.log10(groups_grp_dict[groups_grp_dict_keys[0]]['SubhaloCGMColdGasMass'][0])"
   ]
  },
  {
   "cell_type": "code",
   "execution_count": null,
   "metadata": {},
   "outputs": [],
   "source": [
    "grp_keys = ['SnapNum', 'CosmicTime', 'HostGroup_M_Crit200',\n",
    "            'HostGroup_R_Crit200', 'SubhaloMass',\n",
    "            'Subhalo_Mstar_Rgal', 'Subhalo_Rgal',\n",
    "            'SubhaloColdGasMass', 'SubhaloHotGasMass', 'SubhaloGasMass',\n",
    "            'SubhaloCGMColdGasMass']\n",
    "\n",
    "def create_taudict(grp_dict, [snaps]):\n",
    "    tauresult = {}\n",
    "    # begin loop over subhalos\n",
    "    for group_index, group_key in enumerate(grp_dict):\n",
    "        group = result[group_key]\n",
    "        # if just starting, then initialize the dictionary \n",
    "        if group_index == 0:\n",
    "            tauresult['SubfindID'] = np.zeros(len(result_keys), dtype=int)\n",
    "            tauresult['HostSubhaloGrNr'] = np.zeros(len(result_keys), dtype=int)\n",
    "            for grp_key in grp_keys:\n",
    "                for snap in snaps:\n",
    "                    if 'quench' in snap:\n",
    "                        tauresult_key = grp_key + '_snapNumquench'\n",
    "                        tauresult[tauresult_key] = np.zeros(len(grp_dict),\n",
    "                                                            dtype=group[grp_key].dtype) - 1\n",
    "                    else:\n",
    "                        tauresult_key = grp_key + '_snapNum%03d'%snap\n",
    "                        tauresult[tauresult_key] = np.zeros(len(grp_dict),\n",
    "                                                            dtype=group[grp_key].dtype) - 1\n",
    "                    \n",
    "        tauresult['SubfindID'][group_index] = group['SubfindID'][0]\n",
    "        tauresult['HostSubhaloGrNr'][group_index] = group['HostSubhaloGrNr'][0]\n",
    "        # finish initializing the the result\n",
    "        # assign the values at z=0, which are always the 0th element in the array\n",
    "        for grp_key in grp_keys:\n",
    "            tauresult_key = grp_key + '_z0'\n",
    "            tauresult[tauresult_key][group_index] = group[grp_key][0]\n",
    "    # finish loop over the branches\n",
    "    return tauresult\n",
    "    "
   ]
  },
  {
   "cell_type": "code",
   "execution_count": null,
   "metadata": {},
   "outputs": [],
   "source": [
    "group = groups_grp_dict[groups_grp_dict_keys[0]]\n",
    "time_index = 99 == group['SnapNum']\n"
   ]
  },
  {
   "cell_type": "code",
   "execution_count": null,
   "metadata": {},
   "outputs": [],
   "source": [
    "len(groups_grp_dict)"
   ]
  },
  {
   "cell_type": "code",
   "execution_count": null,
   "metadata": {},
   "outputs": [],
   "source": []
  }
 ],
 "metadata": {
  "kernelspec": {
   "display_name": "base",
   "language": "python",
   "name": "python3"
  },
  "language_info": {
   "codemirror_mode": {
    "name": "ipython",
    "version": 3
   },
   "file_extension": ".py",
   "mimetype": "text/x-python",
   "name": "python",
   "nbconvert_exporter": "python",
   "pygments_lexer": "ipython3",
   "version": "3.9.7"
  }
 },
 "nbformat": 4,
 "nbformat_minor": 2
}
