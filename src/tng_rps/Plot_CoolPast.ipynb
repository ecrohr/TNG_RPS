{
 "cells": [
  {
   "cell_type": "code",
   "execution_count": null,
   "metadata": {},
   "outputs": [],
   "source": []
  },
  {
   "cell_type": "markdown",
   "metadata": {},
   "source": [
    "# Creating the figures for The Cooler Pasts paper\n",
    "## Written by Eric Rohr"
   ]
  },
  {
   "cell_type": "code",
   "execution_count": 1,
   "metadata": {},
   "outputs": [
    {
     "name": "stdout",
     "output_type": "stream",
     "text": [
      "/vera/u/reric/Scripts\n"
     ]
    }
   ],
   "source": [
    "### import modules\n",
    "import illustris_python as il\n",
    "import matplotlib.pyplot as plt\n",
    "import numpy as np\n",
    "import matplotlib as mpl\n",
    "import matplotlib.cm as cm\n",
    "import matplotlib.patheffects as pe\n",
    "import matplotlib.transforms as transforms\n",
    "from matplotlib.gridspec import GridSpec\n",
    "import matplotlib.gridspec as gridspec\n",
    "from matplotlib.patches import Patch\n",
    "import matplotlib.patches as patches\n",
    "from mpl_toolkits.axes_grid1.inset_locator import inset_axes\n",
    "from mpl_toolkits.axes_grid1 import make_axes_locatable\n",
    "from scipy.ndimage import gaussian_filter\n",
    "from scipy import ndimage\n",
    "from scipy.interpolate import interp1d\n",
    "from scipy import interpolate\n",
    "from tenet.util import sphMap\n",
    "import scipy.stats\n",
    "from scipy.stats import norm\n",
    "from sklearn.neighbors import KernelDensity\n",
    "from scipy.stats import ks_2samp, anderson_ksamp\n",
    "from scipy.optimize import curve_fit\n",
    "import os\n",
    "import time\n",
    "import h5py\n",
    "import rohr_utils as ru \n",
    "import random\n",
    "import six\n",
    "\n",
    "plt.style.use('fullpage.mplstyle')\n",
    "\n",
    "zs, times = ru.return_zs_costimes()\n",
    "times /= 1.0e9 # [Gyr]\n",
    "scales = 1. / (1.+ zs)\n",
    "\n",
    "os.chdir('/u/reric/Scripts/')\n",
    "! pwd"
   ]
  },
  {
   "cell_type": "code",
   "execution_count": null,
   "metadata": {},
   "outputs": [],
   "source": []
  }
 ],
 "metadata": {
  "kernelspec": {
   "display_name": "base",
   "language": "python",
   "name": "python3"
  },
  "language_info": {
   "codemirror_mode": {
    "name": "ipython",
    "version": 3
   },
   "file_extension": ".py",
   "mimetype": "text/x-python",
   "name": "python",
   "nbconvert_exporter": "python",
   "pygments_lexer": "ipython3",
   "version": "3.9.7"
  }
 },
 "nbformat": 4,
 "nbformat_minor": 2
}
